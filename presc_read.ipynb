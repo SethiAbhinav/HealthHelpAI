{
 "cells": [
  {
   "cell_type": "code",
   "execution_count": 62,
   "metadata": {},
   "outputs": [
    {
     "data": {
      "text/plain": [
       "{'api': '2.0',\n",
       " 'content': {'html': '<h1 id=\\'0\\' style=\\'font-size:20px\\'>Dr. Onkar Bhave<br>M.B.B.S., M.D., M.S.  Reg. No: 270988|<br>Mob. No: 8983390126</h1>\\n<br><figure><img id=\\'1\\' style=\\'font-size:16px\\' alt=\"\\nLOREM IPSUM\\n\\'\" data-coord=\"top-left:(239,1); bottom-right:(293,52)\" /></figure>\\n<br><h1 id=\\'2\\' style=\\'font-size:22px\\'>Care Clinic</h1>\\n<br><p id=\\'3\\' data-category=\\'paragraph\\' style=\\'font-size:18px\\'>Near Axis Bank, Kothrud, Pune-<br>411038.<br>Ph: 094233 80390, Timing: 09:00<br>AM = 02:00 PM  Closed: Thursday</p>\\n<h1 id=\\'4\\' style=\\'font-size:18px\\'>ID: 266 - DEMO PATIENT (M)<br>Address: PUNE<br>Temp (deg): 36, BP: 120/80 mmHg</h1>\\n<br><h1 id=\\'5\\' style=\\'font-size:18px\\'>Date: 27-Apr-2020, 04:37 PM</h1>\\n<figure><img id=\\'6\\' style=\\'font-size:14px\\' alt=\"R\\nMedicine Name Dosage Duration\\n1) TAB. DEMO MEDICINE 1 1 Morning, 1 Night 10 Days\\n(Before Food) (Tot:20 Tab)\\n2) CAP. DEMO MEDICINE 2 1 Morning, 1 Night 10 Days\\n(Before Food) (Tot:20 Cap)\\n3) TAB. DEMO MEDICINE 3 1 Morning, 1 Aft, 1 Eve, 1 Night 10 Days\\n(After Food) (Tot:40 Tab)\\n4 ) TAB. DEMO MEDICINE 4 1/2 Morning, 1/2 Night 10 Days\\n(After Food) (Tot:10 Tab)\\nAdvice Given:\\n* AVOID OILY AND SPICY FOOD\\nFollow Up: 12-05-2020\\nCharts\\nm 초 フラ\\n40 17 140\\nG 120 120 120\\nPressure 120\\n38\\n(Deg\\n30 100 90\\nao H\\nTemperature 80\\n20\\nBlood 60\\n40\\n10\\n20\\n0 0\\n21-02- 03-03- 22-03- 05-04- 19-04- 03-05- 17:05- 23-02- 03-03- 22-03- 05-04- 19:06- 03-05- 17-05\\n2020 2010 2020 2020 2020 2020 2020 2020 2020 2020 2000 2020 2000 2020\\nDate Date\" data-coord=\"top-left:(21,191); bottom-right:(519,562)\" /></figure>\\n<br><figure><img id=\\'7\\' style=\\'font-size:22px\\' alt=\"Signature\\nDr. Onkar Bhave\\nM.B.B.S., M.D., M.S.\" data-coord=\"top-left:(400,562); bottom-right:(520,618)\" /></figure>',\n",
       "  'markdown': '',\n",
       "  'text': ''},\n",
       " 'elements': [{'category': 'heading1',\n",
       "   'content': {'html': \"<h1 id='0' style='font-size:20px'>Dr. Onkar Bhave<br>M.B.B.S., M.D., M.S.  Reg. No: 270988|<br>Mob. No: 8983390126</h1>\",\n",
       "    'markdown': '',\n",
       "    'text': ''},\n",
       "   'coordinates': [{'x': 0.0422, 'y': 0.0022},\n",
       "    {'x': 0.3858, 'y': 0.0022},\n",
       "    {'x': 0.3858, 'y': 0.072},\n",
       "    {'x': 0.0422, 'y': 0.072}],\n",
       "   'id': 0,\n",
       "   'page': 1},\n",
       "  {'category': 'figure',\n",
       "   'content': {'html': '<br><figure><img id=\\'1\\' style=\\'font-size:16px\\' alt=\"\\nLOREM IPSUM\\n\\'\" data-coord=\"top-left:(239,1); bottom-right:(293,52)\" /></figure>',\n",
       "    'markdown': '',\n",
       "    'text': ''},\n",
       "   'coordinates': [{'x': 0.437, 'y': 0.0017},\n",
       "    {'x': 0.5361, 'y': 0.0017},\n",
       "    {'x': 0.5361, 'y': 0.0841},\n",
       "    {'x': 0.437, 'y': 0.0841}],\n",
       "   'id': 1,\n",
       "   'page': 1},\n",
       "  {'category': 'heading1',\n",
       "   'content': {'html': \"<br><h1 id='2' style='font-size:22px'>Care Clinic</h1>\",\n",
       "    'markdown': '',\n",
       "    'text': ''},\n",
       "   'coordinates': [{'x': 0.5844, 'y': 0.0036},\n",
       "    {'x': 0.7075, 'y': 0.0036},\n",
       "    {'x': 0.7075, 'y': 0.0245},\n",
       "    {'x': 0.5844, 'y': 0.0245}],\n",
       "   'id': 2,\n",
       "   'page': 1},\n",
       "  {'category': 'paragraph',\n",
       "   'content': {'html': \"<br><p id='3' data-category='paragraph' style='font-size:18px'>Near Axis Bank, Kothrud, Pune-<br>411038.<br>Ph: 094233 80390, Timing: 09:00<br>AM = 02:00 PM  Closed: Thursday</p>\",\n",
       "    'markdown': '',\n",
       "    'text': ''},\n",
       "   'coordinates': [{'x': 0.5828, 'y': 0.0277},\n",
       "    {'x': 0.8898, 'y': 0.0277},\n",
       "    {'x': 0.8898, 'y': 0.1149},\n",
       "    {'x': 0.5828, 'y': 0.1149}],\n",
       "   'id': 3,\n",
       "   'page': 1},\n",
       "  {'category': 'heading1',\n",
       "   'content': {'html': \"<h1 id='4' style='font-size:18px'>ID: 266 - DEMO PATIENT (M)<br>Address: PUNE<br>Temp (deg): 36, BP: 120/80 mmHg</h1>\",\n",
       "    'markdown': '',\n",
       "    'text': ''},\n",
       "   'coordinates': [{'x': 0.0409, 'y': 0.213},\n",
       "    {'x': 0.3629, 'y': 0.213},\n",
       "    {'x': 0.3629, 'y': 0.2763},\n",
       "    {'x': 0.0409, 'y': 0.2763}],\n",
       "   'id': 4,\n",
       "   'page': 1},\n",
       "  {'category': 'heading1',\n",
       "   'content': {'html': \"<br><h1 id='5' style='font-size:18px'>Date: 27-Apr-2020, 04:37 PM</h1>\",\n",
       "    'markdown': '',\n",
       "    'text': ''},\n",
       "   'coordinates': [{'x': 0.6443, 'y': 0.1935},\n",
       "    {'x': 0.9444, 'y': 0.1935},\n",
       "    {'x': 0.9444, 'y': 0.2162},\n",
       "    {'x': 0.6443, 'y': 0.2162}],\n",
       "   'id': 5,\n",
       "   'page': 1},\n",
       "  {'category': 'figure',\n",
       "   'content': {'html': '<figure><img id=\\'6\\' style=\\'font-size:14px\\' alt=\"R\\nMedicine Name Dosage Duration\\n1) TAB. DEMO MEDICINE 1 1 Morning, 1 Night 10 Days\\n(Before Food) (Tot:20 Tab)\\n2) CAP. DEMO MEDICINE 2 1 Morning, 1 Night 10 Days\\n(Before Food) (Tot:20 Cap)\\n3) TAB. DEMO MEDICINE 3 1 Morning, 1 Aft, 1 Eve, 1 Night 10 Days\\n(After Food) (Tot:40 Tab)\\n4 ) TAB. DEMO MEDICINE 4 1/2 Morning, 1/2 Night 10 Days\\n(After Food) (Tot:10 Tab)\\nAdvice Given:\\n* AVOID OILY AND SPICY FOOD\\nFollow Up: 12-05-2020\\nCharts\\nm 초 フラ\\n40 17 140\\nG 120 120 120\\nPressure 120\\n38\\n(Deg\\n30 100 90\\nao H\\nTemperature 80\\n20\\nBlood 60\\n40\\n10\\n20\\n0 0\\n21-02- 03-03- 22-03- 05-04- 19-04- 03-05- 17:05- 23-02- 03-03- 22-03- 05-04- 19:06- 03-05- 17-05\\n2020 2010 2020 2020 2020 2020 2020 2020 2020 2020 2000 2020 2000 2020\\nDate Date\" data-coord=\"top-left:(21,191); bottom-right:(519,562)\" /></figure>',\n",
       "    'markdown': '',\n",
       "    'text': ''},\n",
       "   'coordinates': [{'x': 0.0396, 'y': 0.3045},\n",
       "    {'x': 0.9492, 'y': 0.3045},\n",
       "    {'x': 0.9492, 'y': 0.894},\n",
       "    {'x': 0.0396, 'y': 0.894}],\n",
       "   'id': 6,\n",
       "   'page': 1},\n",
       "  {'category': 'figure',\n",
       "   'content': {'html': '<br><figure><img id=\\'7\\' style=\\'font-size:22px\\' alt=\"Signature\\nDr. Onkar Bhave\\nM.B.B.S., M.D., M.S.\" data-coord=\"top-left:(400,562); bottom-right:(520,618)\" /></figure>',\n",
       "    'markdown': '',\n",
       "    'text': ''},\n",
       "   'coordinates': [{'x': 0.7317, 'y': 0.8947},\n",
       "    {'x': 0.9508, 'y': 0.8947},\n",
       "    {'x': 0.9508, 'y': 0.9833},\n",
       "    {'x': 0.7317, 'y': 0.9833}],\n",
       "   'id': 7,\n",
       "   'page': 1}],\n",
       " 'model': 'document-parse-240910',\n",
       " 'usage': {'pages': 1}}"
      ]
     },
     "execution_count": 62,
     "metadata": {},
     "output_type": "execute_result"
    }
   ],
   "source": [
    "import requests\n",
    "\n",
    "api_key = \"up_X0eMHEuvQ2adWZHewcmbzZOliKVN2\"\n",
    "filename = \"/Users/livdea/Downloads/sample_presc1.png\"\n",
    "\n",
    "url = \"https://api.upstage.ai/v1/document-ai/document-parse\"\n",
    "# url = \"https://api.upstage.ai/v1/document-ai/ocr\"\n",
    "\n",
    "headers = {\"Authorization\": f\"Bearer {api_key}\"}\n",
    "files = {\"document\": open(filename, \"rb\")}\n",
    "response = requests.post(url, headers=headers, files=files)\n",
    "response.json()"
   ]
  },
  {
   "cell_type": "code",
   "execution_count": 63,
   "metadata": {},
   "outputs": [],
   "source": [
    "import together\n",
    "together_client = together.Together(api_key='63f7c168bb7791313bf41a29c742dbf3ca9d5930ff1bab9ba4f3b9a7aeb25c10')\n"
   ]
  },
  {
   "cell_type": "code",
   "execution_count": 75,
   "metadata": {},
   "outputs": [],
   "source": [
    "prompt = f\"\"\"\n",
    "You will be provided a context parsed from a physician's prescription. \n",
    "CONTEXT: {response.json()}\n",
    "TASK: Extract the information about the prescribed medicine names in the following JSON format:\n",
    "Example: \n",
    "'medication_names': ['Medication 1', 'Medication 2'],\n",
    "'dosage': ['1 Morning, 1 Night', '1 Afternoon'],\n",
    "'dose_time':[['10:00', '21:00'], ['14:00']], # Time of the day when the dose is taken as per dosage; keep 10:00 for morning, 14:00 for afternoon, 21:00 for night\n",
    "'total_dose_per_day': [2, 1], # Sum up the dosage\n",
    "'before/after meal':['after meal', 'before meal'],\n",
    "'duration': ['10 days', '2 months']\n",
    "Provide the output in the exact format as shown in the example. Do not include any additional text, explanations, or code.\n",
    "\"\"\"\n",
    "\n",
    "output = together_client.chat.completions.create(\n",
    "        model=\"meta-llama/Meta-Llama-3.1-8B-Instruct-Turbo\",\n",
    "        messages=[{\"role\": \"user\", \"content\": prompt}]\n",
    "    )"
   ]
  },
  {
   "cell_type": "code",
   "execution_count": 76,
   "metadata": {},
   "outputs": [
    {
     "name": "stdout",
     "output_type": "stream",
     "text": [
      "{\n",
      "'medication_names': ['TAB. DEMO MEDICINE 1', 'CAP. DEMO MEDICINE 2', 'TAB. DEMO MEDICINE 3', 'TAB. DEMO MEDICINE 4'],\n",
      "'dosage': ['1 Morning, 1 Night', '1 Morning, 1 Night', '1 Morning, 1 Afternoon, 1 Evening, 1 Night', '1/2 Morning, 1/2 Night'],\n",
      "'dose_time': [['10:00', '21:00'], ['10:00', '21:00'], ['10:00', '14:00', '18:00', '21:00'], ['10:00', '21:00']],\n",
      "'total_dose_per_day': [2, 2, 4, 1.5],\n",
      "'before/after meal': ['before meal', 'before meal', 'after meal', 'after meal'],\n",
      "'duration': ['10 days', '10 days', '10 days', '10 days']\n",
      "}\n"
     ]
    }
   ],
   "source": [
    "print(output.choices[0].message.content)"
   ]
  },
  {
   "cell_type": "code",
   "execution_count": 77,
   "metadata": {},
   "outputs": [
    {
     "data": {
      "text/plain": [
       "{'medication_names': ['TAB. DEMO MEDICINE 1',\n",
       "  'CAP. DEMO MEDICINE 2',\n",
       "  'TAB. DEMO MEDICINE 3',\n",
       "  'TAB. DEMO MEDICINE 4'],\n",
       " 'dosage': ['1 Morning, 1 Night',\n",
       "  '1 Morning, 1 Night',\n",
       "  '1 Morning, 1 Afternoon, 1 Evening, 1 Night',\n",
       "  '1/2 Morning, 1/2 Night'],\n",
       " 'dose_time': [['10:00', '21:00'],\n",
       "  ['10:00', '21:00'],\n",
       "  ['10:00', '14:00', '18:00', '21:00'],\n",
       "  ['10:00', '21:00']],\n",
       " 'total_dose_per_day': [2, 2, 4, 1.5],\n",
       " 'before/after meal': ['before meal',\n",
       "  'before meal',\n",
       "  'after meal',\n",
       "  'after meal'],\n",
       " 'duration': ['10 days', '10 days', '10 days', '10 days']}"
      ]
     },
     "execution_count": 77,
     "metadata": {},
     "output_type": "execute_result"
    }
   ],
   "source": [
    "import ast\n",
    "\n",
    "prescription_info = ast.literal_eval(output.choices[0].message.content)\n",
    "prescription_info"
   ]
  },
  {
   "cell_type": "code",
   "execution_count": 67,
   "metadata": {},
   "outputs": [
    {
     "data": {
      "text/plain": [
       "dict_keys(['medication_names', 'dosage', 'total_dose_per_day', 'before/after meal', 'duration'])"
      ]
     },
     "execution_count": 67,
     "metadata": {},
     "output_type": "execute_result"
    }
   ],
   "source": [
    "prescription_info.keys()"
   ]
  },
  {
   "cell_type": "code",
   "execution_count": 61,
   "metadata": {},
   "outputs": [
    {
     "data": {
      "text/plain": [
       "['TAB. DEMO MEDICINE 1',\n",
       " 'CAP. DEMO MEDICINE 2',\n",
       " 'TAB. DEMO MEDICINE 3',\n",
       " 'TAB. DEMO MEDICINE 4']"
      ]
     },
     "execution_count": 61,
     "metadata": {},
     "output_type": "execute_result"
    }
   ],
   "source": [
    "prescription_info['medication_names']"
   ]
  },
  {
   "cell_type": "code",
   "execution_count": 8,
   "metadata": {},
   "outputs": [],
   "source": [
    "import base64\n",
    "\n",
    "# Convert image to base64\n",
    "with open(filename, \"rb\") as image_file:\n",
    "    encoded_string = base64.b64encode(image_file.read()).decode('utf-8')"
   ]
  },
  {
   "cell_type": "code",
   "execution_count": 24,
   "metadata": {},
   "outputs": [
    {
     "name": "stdout",
     "output_type": "stream",
     "text": [
      " {'medication_names': ['Tab. Demo Medicine 1', 'Cap. Demo Medicine 2', 'Tab. Demo Medicine 3', 'Tab. Demo Medicine 4'],\n",
      " 'dosage': ['1 Morning, 1 Night', '1 Morning', '1 Morning, 1 Night, 1 Eve, 1 Night', '1 Morning, 1/2 Night'],\n",
      " 'total_dose_per_day': [2, 1, 3, 2],\n",
      " 'before/after meal':['after meal', 'before meal', 'after meal', 'after meal'],\n",
      " 'duration': ['10 days', '10 days', '10 days', '10 days']}\n",
      "\n",
      "\n"
     ]
    }
   ],
   "source": [
    "from openai import OpenAI # openai==1.2.0\n",
    " \n",
    "client = OpenAI(\n",
    "    api_key=\"up_X0eMHEuvQ2adWZHewcmbzZOliKVN2\",\n",
    "    base_url=\"https://api.upstage.ai/v1/solar\"\n",
    ")\n",
    " \n",
    "response = client.chat.completions.create(\n",
    "    model=\"solar-docvision\",\n",
    "    messages=[\n",
    "        {\n",
    "          \"role\": \"user\",\n",
    "          \"content\": [\n",
    "              {\n",
    "                  \"type\": \"image_url\",\n",
    "                  \"image_url\": {\n",
    "                      \"url\": f\"data:image/png;base64,{encoded_string}\"\n",
    "                  },\n",
    "              },\n",
    "              {\n",
    "                  \"type\": \"text\",\n",
    "                  \"text\": \"\"\"Extract the information about the prescribed medicine names in the following format:\n",
    "                  Example: \n",
    "                  {'medication_names': ['Medication 1', 'Medication 2'],\n",
    "                  'dosage': ['1 Morning, 1 Night', '1 Morning'],\n",
    "                  'total_dose_per_day': [2, 1],\n",
    "                  'before/after meal':['after meal', 'before meal'],\n",
    "                  'duration': ['10 days', '2 months']}\n",
    "                  \"\"\"\n",
    "              },\n",
    "          ]\n",
    "        }\n",
    "    ],\n",
    ")\n",
    " \n",
    "print(response.choices[0].message.content)\n",
    " \n",
    "# Use with stream=True\n",
    "# for chunk in response:\n",
    "#     if chunk.choices[0].delta.content is not None:\n",
    "#         print(chunk.choices[0].delta.content, end=\"\")"
   ]
  },
  {
   "cell_type": "code",
   "execution_count": null,
   "metadata": {},
   "outputs": [],
   "source": [
    "{m1:{dosage: '1 Morning', total_dose_per_day: 1, before/after meal: 'after meal', duration: '10 days'},\n",
    "m2:{dosage: '1 Morning', total_dose_per_day: 1, before/after meal: 'after meal', duration: '10 days'}}"
   ]
  }
 ],
 "metadata": {
  "kernelspec": {
   "display_name": "mindsdb_hack_env",
   "language": "python",
   "name": "python3"
  },
  "language_info": {
   "codemirror_mode": {
    "name": "ipython",
    "version": 3
   },
   "file_extension": ".py",
   "mimetype": "text/x-python",
   "name": "python",
   "nbconvert_exporter": "python",
   "pygments_lexer": "ipython3",
   "version": "3.12.5"
  }
 },
 "nbformat": 4,
 "nbformat_minor": 2
}
